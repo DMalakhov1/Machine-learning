{
 "cells": [
  {
   "cell_type": "code",
   "execution_count": 1,
   "metadata": {},
   "outputs": [],
   "source": [
    "# Внимание!!! Важно, что бы файлы с данными и исполняемый файл находились в одной папке, \n",
    "# тогда пути к тестовым и тренировочным наборам будут содержать только имена файлов.\n",
    "# \n",
    "# В пути к тренировочным и тестовым данным запрежается использовать абсалютную адресацию, \n",
    "# то есть адресацию, в которой присутствуют имена папок. Путь должен содержать только имя файла.\n",
    "#\n",
    "# Напоминание: под моделью машинного обучения понимаются все действия с исходными данными, \n",
    "# которые необходимо произвести, что бы сопоставить признаки целевому значению."
   ]
  },
  {
   "cell_type": "markdown",
   "metadata": {},
   "source": [
    "### Область работы 1 (библиотеки)"
   ]
  },
  {
   "cell_type": "code",
   "execution_count": 2,
   "metadata": {},
   "outputs": [],
   "source": [
    "# Данный блок в области 1 выполняется преподавателем\n",
    "# \n",
    "# данный блок предназначен только для подключения необходимых библиотек\n",
    "# запрещается подключать библиотеки в других блоках\n",
    "#\n",
    "# установка дополнительных библиотек размещается прямо здесь (обязательно закоментированы)\n",
    "#\n",
    "# pip install"
   ]
  },
  {
   "cell_type": "code",
   "execution_count": 1,
   "metadata": {},
   "outputs": [],
   "source": [
    "# Standard libraries\n",
    "import random\n",
    "import warnings\n",
    "import numpy as np\n",
    "import pandas as pd\n",
    "import matplotlib.pyplot as plt\n",
    "import seaborn as sns\n",
    "from datetime import datetime\n",
    "from tabulate import tabulate\n",
    "from IPython.display import display_html, display\n",
    "\n",
    "# Sklearn imports for model building and evaluation\n",
    "from sklearn.model_selection import GridSearchCV, train_test_split, ShuffleSplit, cross_val_score\n",
    "from sklearn.ensemble import VotingClassifier, RandomForestClassifier, GradientBoostingClassifier\n",
    "from sklearn.linear_model import LogisticRegression, Ridge, Lasso, ElasticNet, BayesianRidge\n",
    "from sklearn.neighbors import KNeighborsClassifier, KNeighborsRegressor\n",
    "from sklearn.svm import SVC, SVR\n",
    "from sklearn.preprocessing import StandardScaler, OrdinalEncoder, LabelEncoder, OneHotEncoder, TargetEncoder, MinMaxScaler, RobustScaler, PolynomialFeatures, QuantileTransformer, PowerTransformer\n",
    "from sklearn.metrics import make_scorer, fbeta_score, f1_score, confusion_matrix, classification_report, precision_score, recall_score, accuracy_score, roc_auc_score, roc_curve, precision_recall_curve, mean_squared_error, log_loss, zero_one_loss\n",
    "from sklearn.impute import SimpleImputer, IterativeImputer, KNNImputer\n",
    "from sklearn.compose import ColumnTransformer, make_column_transformer, TransformedTargetRegressor\n",
    "from sklearn.pipeline import Pipeline, FeatureUnion\n",
    "import category_encoders as ce\n",
    "\n",
    "# Suppress warnings\n",
    "warnings.filterwarnings('ignore')\n"
   ]
  },
  {
   "cell_type": "code",
   "execution_count": null,
   "metadata": {},
   "outputs": [],
   "source": [
    "path_test = 'test.csv' \n",
    "path_train_Y = 'train_Y.csv'\n",
    "path_train = 'train.csv'\n",
    "\n",
    "df_test = pd.read_csv(path_test)\n",
    "df_train_Y = pd.read_csv(path_train_Y)\n",
    "df_train = pd.read_csv(path_train)\n",
    "df_all = pd.concat([df_train, df_train_Y], axis=1)\n",
    "\n",
    "# print(df_test.shape, df_train_Y.shape, df_train.shape, df_all.shape)\n",
    "\n",
    "# Голая модель \n",
    "df_all.drop_duplicates(inplace = True)"
   ]
  },
  {
   "cell_type": "markdown",
   "metadata": {},
   "source": [
    "### Область работы 2 (выполнение лучшей модели)"
   ]
  },
  {
   "cell_type": "code",
   "execution_count": 4,
   "metadata": {},
   "outputs": [],
   "source": [
    "# Данный блок(и) в области 2 выполняется преподавателем\n",
    "#\n",
    "# В области находится одна, единственная, итоговая модель машинного обучения с однозначными, \n",
    "# зафиксированными параметрами\n",
    "#\n",
    "# В данной области категорически запрещается искать, выбирать, улучшать, оптимизировать, \n",
    "# тюниговать и т.д. модель машинного обучения"
   ]
  },
  {
   "cell_type": "code",
   "execution_count": 5,
   "metadata": {},
   "outputs": [],
   "source": [
    "path_test = 'test.csv' \n",
    "path_train_Y = 'train_Y.csv'\n",
    "path_train = 'train.csv'\n",
    "\n",
    "df_test = pd.read_csv(path_test)\n",
    "df_train_Y = pd.read_csv(path_train_Y)\n",
    "df_train = pd.read_csv(path_train)\n",
    "df_all = pd.concat([df_train, df_train_Y], axis=1)\n",
    "\n",
    "# print(df_test.shape, df_train_Y.shape, df_train.shape, df_all.shape)\n",
    "\n",
    "# Голая модель \n",
    "df_all.drop_duplicates(inplace = True)"
   ]
  },
  {
   "cell_type": "code",
   "execution_count": 6,
   "metadata": {},
   "outputs": [],
   "source": [
    "# Блок обучения модели (все три модели)"
   ]
  },
  {
   "cell_type": "code",
   "execution_count": null,
   "metadata": {},
   "outputs": [],
   "source": [
    "X = df_all.drop('Diabetes_binary', axis=1)  \n",
    "y = df_all['Diabetes_binary']  \n",
    "\n",
    "\n",
    "# Рандомный лес\n",
    "model_rf = RandomForestClassifier(\n",
    "    n_estimators=300,          \n",
    "    criterion='entropy',      \n",
    "    n_jobs=-1,                 \n",
    "    bootstrap=True,            \n",
    "    max_samples=None,          \n",
    "    oob_score=True,            \n",
    "    max_depth=15,              \n",
    "    max_features='sqrt',       \n",
    "    min_samples_leaf=4,        \n",
    "    min_samples_split=2     \n",
    ")\n",
    "model_rf.fit(X, y) \n",
    "\n",
    "y_test_pred_RF = model_rf.predict_proba(df_test)[:, 1] \n",
    "threshold_rf = 0.4\n",
    "y_predict_RF = (y_test_pred_RF >= threshold_RF).astype(int)\n",
    "\n",
    "# Градиентный бустинг \n",
    "model_gb = GradientBoostingClassifier(\n",
    "    learning_rate=0.01,        \n",
    "    max_depth=7,              \n",
    "    max_features='sqrt',      \n",
    "    min_samples_leaf=4,       \n",
    "    min_samples_split=2,      \n",
    "    n_estimators=300,        \n",
    "    subsample=0.8            \n",
    ")\n",
    "\n",
    "model_gb.fit(X, y)\n",
    "\n",
    "y_test_pred_GB = model_gb.predict_proba(df_test)[:, 1] \n",
    "threshold_GB = 0.4\n",
    "\n",
    "\n",
    "y_test_pred_RF = model_rf.predict_proba(df_test)[:, 1] \n",
    "threshold_GB = 0.4\n",
    "y_predict_RF = (y_test_pred_GB >= threshold_GB).astype(int)\n",
    "\n",
    "# # Войтинг (жесткий)  \n",
    "\n",
    "# clf_rf = RandomForestClassifier(\n",
    "#     criterion='entropy', \n",
    "#     max_depth=15, \n",
    "#     min_samples_leaf=4,\n",
    "#     n_estimators=300, \n",
    "#     n_jobs=-1,  # Параллельное выполнение\n",
    "#     oob_score=True\n",
    "# )\n",
    "# clf_lr = LogisticRegression(C=1, max_iter=1000)\n",
    "# clf_knn = KNeighborsClassifier(n_neighbors=11, n_jobs=-1)  \n",
    "# clf_svc = SVC(C=0.1, gamma='auto', probability=True)  \n",
    "# clf_gb = GradientBoostingClassifier(\n",
    "#     learning_rate=0.01, \n",
    "#     max_depth=7, \n",
    "#     max_features='sqrt', \n",
    "#     min_samples_leaf=4, \n",
    "#     n_estimators=300, \n",
    "#     subsample=0.8\n",
    "# )\n",
    "# # Войтинг \n",
    "# mb_best = VotingClassifier(\n",
    "#     estimators=[('lr', clf_lr), ('rf', clf_rf), ('knn', clf_knn), ('svc', clf_svc), ('gb', clf_gb)],\n",
    "#     voting='hard'\n",
    "# )\n",
    "\n",
    "# mb_best.fit(X, y)"
   ]
  },
  {
   "cell_type": "code",
   "execution_count": 7,
   "metadata": {},
   "outputs": [],
   "source": [
    "# Блок предсказания с использованием тестового набора (все три модели)"
   ]
  },
  {
   "cell_type": "code",
   "execution_count": null,
   "metadata": {},
   "outputs": [],
   "source": [
    "y_predict_RF = (y_test_pred_RF >= threshold_RF).astype(int)\n",
    "y_predict_GB = y_predict_RF = (y_test_pred_GB >= threshold_GB).astype(int)\n",
    "y_predict_final = (y_test_pred_GB >= threshold_GB).astype(int)"
   ]
  },
  {
   "cell_type": "code",
   "execution_count": null,
   "metadata": {},
   "outputs": [],
   "source": [
    "# Вектора предсказанных значений  RandomForestClassifier или ExtraTreesClassifier\n"
   ]
  },
  {
   "cell_type": "code",
   "execution_count": null,
   "metadata": {},
   "outputs": [],
   "source": [
    "# Вектора предсказанных значений  GradientBoostingClassifier или HistGradientBoostingClassifier\n"
   ]
  },
  {
   "cell_type": "code",
   "execution_count": null,
   "metadata": {},
   "outputs": [],
   "source": [
    "# Вектора предсказанных значений  финальной модели\n"
   ]
  },
  {
   "cell_type": "code",
   "execution_count": null,
   "metadata": {},
   "outputs": [],
   "source": []
  }
 ],
 "metadata": {
  "kernelspec": {
   "display_name": "Python 3 (ipykernel)",
   "language": "python",
   "name": "python3"
  },
  "language_info": {
   "codemirror_mode": {
    "name": "ipython",
    "version": 3
   },
   "file_extension": ".py",
   "mimetype": "text/x-python",
   "name": "python",
   "nbconvert_exporter": "python",
   "pygments_lexer": "ipython3",
   "version": "3.11.5"
  }
 },
 "nbformat": 4,
 "nbformat_minor": 4
}
